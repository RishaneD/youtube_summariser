{
 "cells": [
  {
   "cell_type": "code",
   "execution_count": null,
   "id": "75cda385-8a57-4071-9da8-9650d2a50edd",
   "metadata": {},
   "outputs": [],
   "source": [
    "# import libraries\n",
    "\n",
    "import pandas as pd\n",
    "from pytube import Playlist\n",
    "from youtube_transcript_api import YouTubeTranscriptApi\n",
    "from youtube_transcript_api._errors import TranscriptsDisabled, NoTranscriptFound\n",
    "from openai import OpenAI\n",
    "import time\n",
    "from IPython.display import display, Markdown"
   ]
  },
  {
   "cell_type": "code",
   "execution_count": null,
   "id": "27ca4f4d-de77-4dda-af64-56b85fd3c9cc",
   "metadata": {},
   "outputs": [],
   "source": [
    "# set up openai client\n",
    "api_key = 'YOUR-API-KEY'\n",
    "client = OpenAI(api_key=api_key)"
   ]
  },
  {
   "cell_type": "markdown",
   "id": "5edc4449-fa3a-4b23-ba90-b234709a6443",
   "metadata": {},
   "source": [
    "#### `fetch_transcript` function\n",
    "\n",
    "This function gets the transcript of a single YouTube video."
   ]
  },
  {
   "cell_type": "code",
   "execution_count": null,
   "id": "31819c41-19be-41da-b0df-1829e25014c0",
   "metadata": {},
   "outputs": [],
   "source": [
    "# define function to retrieve transcripts\n",
    "\n",
    "def fetch_transcript(video_id, title):\n",
    "    \"\"\"\n",
    "    Fetches the transcript of a YouTube video using its video ID.\n",
    "\n",
    "    This function attempts to retrieve the transcript of a given YouTube video. \n",
    "    If successful, it returns the transcript text as a single string. \n",
    "    If the transcript is disabled or not found, it returns an appropriate error message.\n",
    "    \n",
    "    Args:\n",
    "        video_id (str): The ID of the YouTube video.\n",
    "        title (str): The title of the YouTube video.\n",
    "        \n",
    "    Returns:\n",
    "        str: The transcript text if successfully fetched, \n",
    "             otherwise an error message indicating the issue.\n",
    "    \n",
    "    Exceptions:\n",
    "        TranscriptsDisabled: If transcripts are disabled for the video.\n",
    "        NoTranscriptFound: If no transcript is found for the video.\n",
    "        Exception: For any other unexpected errors.\n",
    "    \"\"\"\n",
    "    try:\n",
    "        transcript = YouTubeTranscriptApi.get_transcript(video_id)\n",
    "        transcript_text = \" \".join([line['text'] for line in transcript])\n",
    "        return transcript_text\n",
    "    except TranscriptsDisabled:\n",
    "        return f\"Transcripts are disabled for video: {title}\"\n",
    "    except NoTranscriptFound:\n",
    "        return f\"No transcript found for video: {title}\"\n",
    "    except Exception as e:\n",
    "        return f\"An error occurred for video {title}: {e}\""
   ]
  },
  {
   "cell_type": "code",
   "execution_count": null,
   "id": "c0aaecba-72a3-400c-89bf-d50529d718c3",
   "metadata": {},
   "outputs": [],
   "source": [
    "# test case\n",
    "fetch_transcript('2frJsC_Q3I0','How to Read and Summarize Research Papers | Machine Learning & Deep Learning')"
   ]
  },
  {
   "cell_type": "markdown",
   "id": "d98524e7-9929-47c3-9ecb-307c071fade7",
   "metadata": {},
   "source": [
    "#### `download_playlist_data` function\n",
    "\n",
    "This function retrieves the metadata of all the YouTube videos in a playlist"
   ]
  },
  {
   "cell_type": "code",
   "execution_count": null,
   "id": "4a1a230a-ba9d-4755-85ef-c68d0724cdd0",
   "metadata": {},
   "outputs": [],
   "source": [
    "def download_playlist_data(playlist_url):\n",
    "    \"\"\"\n",
    "    Downloads transcripts and metadata for all videos in a YouTube playlist and stores in a dictionary.\n",
    "\n",
    "    Args:\n",
    "        playlist_url (str): The URL of the YouTube playlist.\n",
    "\n",
    "    Returns:\n",
    "        dict: A dictionary containing metadata for each video in the playlist. \n",
    "              The keys are video IDs and the values are dictionaries with the following keys:\n",
    "              - 'transcript': The transcript of the video.\n",
    "              - 'title': The title of the video.\n",
    "              - 'author': The author of the video. \n",
    "              - 'date_published': The publish date of the video in YYYY-MM-DD format.\n",
    "              - 'duration': The duration of the video in seconds.\n",
    "\n",
    "    \"\"\"\n",
    "    playlist = Playlist(playlist_url)\n",
    "    video_info = {}\n",
    "\n",
    "    for video in playlist.videos:\n",
    "        \n",
    "        # get the transcript and time\n",
    "        start_time = time.time()\n",
    "        result = fetch_transcript(video.video_id, video.title)\n",
    "        end_time = time.time()\n",
    "\n",
    "        # create dictionary entry for each video in playlist \n",
    "        if \"An error occurred\" not in result and \"Transcripts are disabled\" not in result and \"No transcript found\" not in result:\n",
    "            video_info[video.video_id] = {\n",
    "                \"transcript\": result,\n",
    "                \"title\": video.title,\n",
    "                'author': video.author,\n",
    "                \"date_published\": video.publish_date.strftime(\"%Y-%m-%d\"),\n",
    "                \"duration\": video.length,\n",
    "                \"transcript_fetch_time\": round(end_time-start_time, 2)\n",
    "            }\n",
    "    \n",
    "    return video_info"
   ]
  },
  {
   "cell_type": "code",
   "execution_count": null,
   "id": "70220be2-d689-4d11-a5fd-594a587d30c2",
   "metadata": {},
   "outputs": [],
   "source": [
    "# test case\n",
    "test_playlist_url = \"https://www.youtube.com/playlist?list=PLLcwGvZPfmzdaC38G9cUgQ27Uoi-KHWNv\"\n",
    "test_playlist_data = download_playlist_data(test_playlist_url)\n",
    "print(test_playlist_data)"
   ]
  },
  {
   "cell_type": "code",
   "execution_count": null,
   "id": "23edecfe-ed67-4f8d-8d9f-0af4f54f77c8",
   "metadata": {},
   "outputs": [],
   "source": [
    "for key in test_playlist_data.keys():\n",
    "    print(key)\n",
    "    print(test_playlist_data[key]['transcript_fetch_time'])"
   ]
  },
  {
   "cell_type": "markdown",
   "id": "4fc5e8b3-a3c8-406e-ac8b-c84b53247739",
   "metadata": {},
   "source": [
    "#### `compile_prompt` function"
   ]
  },
  {
   "cell_type": "code",
   "execution_count": null,
   "id": "f0d07bad-94b6-4d9d-a15d-61aabf5cf327",
   "metadata": {},
   "outputs": [],
   "source": [
    "def compile_prompt(user_prompt, transcript, topic):\n",
    "    topic_and_transcript = f\"Topic: {topic}\\nTranscript: {transcript}\"\n",
    "    compiled_prompt = user_prompt + topic_and_transcript        \n",
    "    return compiled_prompt    "
   ]
  },
  {
   "cell_type": "markdown",
   "id": "a56903bf-f9dc-4c23-a7da-7aa1e5ac51ad",
   "metadata": {},
   "source": [
    "#### `get_model_response` function\n",
    "\n",
    "This function queries the OpenAI API given a prompt and a transcript. It returns the model's response. "
   ]
  },
  {
   "cell_type": "code",
   "execution_count": null,
   "id": "e2e88a77-5cf2-447a-844e-d2bd83c0ac01",
   "metadata": {},
   "outputs": [],
   "source": [
    "# define model response function\n",
    "\n",
    "def get_model_response(user_prompt, system_prompt):\n",
    "    \"\"\"\n",
    "    Processes a transcript using the OpenAI API to generate a summary and other information.\n",
    "\n",
    "    This function sends a prompt to the OpenAI API containing the provided transcript text.\n",
    "    The prompt instructs the API to perform several tasks, including extracting a bio of the guest,\n",
    "    listing books suggested, outlining unique ideas discussed, summarizing career advice, and \n",
    "    summarizing learning processes mentioned in the transcript.\n",
    "\n",
    "    Args:\n",
    "        transcript_text (str): The text of the transcript to be processed.\n",
    "        user_prompt (str): The user prompt to include in the OpenAI API request.\n",
    "        system_prompt(str): The system prompt to include in the OpenAI API request.\n",
    "\n",
    "    Returns:\n",
    "        str: The response from the OpenAI API, containing the requested information within <result> tags.\n",
    "    \"\"\"\n",
    "\n",
    "    response = client.chat.completions.create(\n",
    "        model=\"gpt-4o-2024-05-13\",\n",
    "        messages=[{\"role\": \"system\", \"content\": system_prompt},\n",
    "                  {\"role\": \"user\", \"content\": user_prompt}],\n",
    "        max_tokens=1000\n",
    "    )\n",
    "\n",
    "    return response.choices[0].message.content"
   ]
  },
  {
   "cell_type": "code",
   "execution_count": null,
   "id": "9fa58bd1-be21-4b4e-8a8c-8ed21b047ad7",
   "metadata": {},
   "outputs": [],
   "source": [
    "# test model response\n",
    "\n",
    "test_transcript_text = \"\"\"how do you read a research paper and summarize it research papers are often quite \n",
    "intimidating and can be hard to understand because they are written by experts who have been researching in \n",
    "their field often for up to decades even and they go right into the mathematical details and talk about the experiments \n",
    "and sometimes they forget to actually talk about the topic that they're researching and explain it to newcomers so how can \n",
    "you still work through a paper and give a presentation on it or write a summary for your research proposal for example in \n",
    "this video i will show you both a quick and a more thorough method for reading the paper that helped me personally when i \n",
    "was starting out in the field and was a bit overwhelmed by the papers i would suggest you start with a quick method to get\n",
    "a rough idea of the paper and then afterwards you can decide if you want to do some more work and get into more of the \n",
    "details of the paper or if you already know that you have to read the whole paper because it is for a university \n",
    "assignment for example then i would still suggest you start with a quick method because this will give you an intro and \n",
    "then dive more into the details later i have one quick disclaimer before we start this video is specifically about computer\n",
    "science papers and i have most of my experience with machine learning papers okay so enough about that let's get into \n",
    "the workflow that i use for every new paper that i read as an example through this video i will use the paper asymmetric \n",
    "values beyond sharp and local minima and that is about an optimization method called stochastic gradient percent in deep \n",
    "learning and i will link the paper down below in the description box in case you're interested all right let's start with \n",
    "the quick method the first thing you'll notice in any paper is probably the title on the top of the page and below that \n",
    "you will find the authors of the paper and under the office you can find the university or company that they are currently\n",
    "working for or who sponsored this paper now this is not extremely important but i always take a look at this to see which\n",
    "company the authors are from and also after you read a few of the papers in the field you notice some repeating companies \n",
    "or authors and that allows you to draw some connections between the topics that they're working on below the authors we \n",
    "have the abstract of the paper this will give you a rough summary of what the paper is about and what problem they were \n",
    "trying to solve and how they solved it you should quickly read through this but don't worry if you don't understand a lot\n",
    "just look for some keywords that might be important for your research or just keywords that you already understand and \n",
    "that will then give your context and makes you aware of what you should look out for while you read the rest of the paper \n",
    "for example in this paper i noticed the keywords generalization performance stochastic gradient descent and flat and type \n",
    "minima and these are all things that i already know about and know that they are relevant to what i'm currently working on\n",
    "so i know that the paper will probably be a good read for me i also again see the mention of the asymmetric valleys like \n",
    "they already said in the title so i know that this will probably be an important concept in the paper and i know to keep \n",
    "an eye out for it and see how it relates to the other concepts that were mentioned and at the end of the abstract you also\n",
    "see theoretical explanation and empirically so from that we can infer that the paper will both have mathematical proofs \n",
    "and experiments next is the introduction which we will also read and we will read it a bit more carefully than the \n",
    "abstract ideally this should give you an introduction to the topic and tell you what the research is about and also \n",
    "why should we care about this topic or how is it relevant to solving a specific problem i would suggest that you \n",
    "highlight the most important parts and also maybe write down something in your own words and also write down any open \n",
    "questions that you might have of things that you don't understand then later as you read the rest of the paper you \n",
    "might be able to answer these questions and you have a record of what was maybe unclear at the start so if you then \n",
    "give a presentation or write a summary for another inexperienced reader then you can answer these questions upfront \n",
    "and hopefully reduce any confusion that the listener might have if you still understand almost nothing after reading \n",
    "the introduction multiple times just you know consider chugging the paper into the trash okay i realize this might not \n",
    "be possible if you have to read it for a university assignment or another commitment that you have so in that case \n",
    "i would recommend that you go through the papers that are cited in the introduction or in the related work section and \n",
    "look for one that is very similar in topic to the one you're currently trying to read and then look at that paper and \n",
    "maybe read their introduction and hopefully they explain the general research topic in a more accessible way than the \n",
    "paper you're currently reading the related work section is most often the chapter that comes after the introduction and \n",
    "unless you're trying to explicitly find another paper to read i would just skim read this section because it will show \n",
    "you a lot of papers that are slightly related to the one you're currently reading and it will probably not have a lot of \n",
    "information that you actually need to understand the paper next up we actually skip ahead to the end and we read the one \n",
    "or two chapters that come before the references often they are called conclusion or discussion but sometimes they might \n",
    "be entirely missing from the paper in that case don't read the last paper if it's about the details of it but most of \n",
    "the time you should find a conclusion so read that and this will again summarize everything that the authors find out \n",
    "and oftentimes they will also give you an outlook of the future research areas or future research directions that they \n",
    "might have because of the findings they have if you just want to quickly know the gist of the paper then your journey \n",
    "ends here you can again read everything you've just read and maybe write down some key findings but definitely remember \n",
    "to write something down before moving on to the next paper or project because otherwise you will probably have forgotten\n",
    "everything that the paper is about in about two days at least that's what happens to me now let's talk about the long way \n",
    "through the paper if we want to know more details after reading the quick pass now we read the rest of the paper or the middle of the paper that we just skipped and you should read the paper multiple times and either on the first or second read through begin making some notes in your own words about what you're reading don't try to just reword a sentence really like use your own words to describe the concept even if it might be slightly wrong on this read-through i would still recommend to skip any complicated proofs or really just any proofs and just focus on understanding the concept many papers in the machine learning area also have an appendix that comes after the references and oftentimes those appendix can be 10 to 20 pages long even when the main paper is only eight to nine pages that is because if you submit to a journal or conference you have to be within a certain page limit and anything that didn't make the main paper will then be put into the appendix often the appendix is the place where you find the long mathematical proofs or something so in this case we can just skip it but also sometimes the appendix is used for additional figures or tables about the experiment that the authors did and in this case you can take a quick look at the appendix but in general everything that didn't make the main paper is probably not vital to understanding the topics that you're trying to learn about so don't worry about the appendix until maybe at the end of your work through the paper if you still have time you can take a look but yeah otherwise just don't worry about it after reading through everything and making some notes you're going to do a bit of reflection this step is what most beginners skip and it really makes a huge difference to your understanding and ability to presentate to presentate but it makes a huge difference in your understanding and ability to present the topic that you just researched ask yourself the following questions what are the three to five main concepts or statements that the paper is making while doing this try to think about the overarching field of research and what these statements might lead to and how they might impact the future of the research area either during this stage or afterwards i recommend you also make a mind map to write down these concepts and maybe try to find the connection between those concepts or how one of those ideas leads to the next idea how are they connected what is the story behind the paper near the end of your work through try and answer the question what is the main goal or problem that the paper is trying to solve and really state this in the most simple and short way that you can manage while still describing the paper as a whole what is the motivation behind this work and really take your time with this one write down a few different suggestions that you have and then reflect on this and think which one is the most simple while still describing all of the work that went into the paper of course no short answer will summarize the whole paper but really try to boil it down to one motivational idea behind the paper after all of this work you probably understand enough to summarize the paper or give a presentation on the topic especially for a presentation i recommend that you start with the main goal that you just found out and put it on the first slide let your audience know immediately what the motivation for it this presentation and for the paper is and what they can expect from the rest of the presentation because remember context is everything for understanding for a written summary you can do a bit of a longer introduction but still i would suggest to start with the main point and then try and develop a story that connects the three to five main statements that you found out and go through them and in the end comes to a conclusion of the topic i will probably make another video that goes into how i would structure an engaging presentation about a very abstract topic but that is it for this video remember introduction and conclusion are the two most important parts to read first and always reflect on the key concept that you're reading and the context of everything when writing a summary don't just reword the sentences and make them shorter but really engage with the content of the paper in all the ways that you possibly can please leave a like if this video helped you and consider subscribing for more machine learning and student content bye\"\"\"\n",
    "\n",
    "test_user_prompt = f\"\"\"\n",
    "    Here is the transcript from a YouTube video about learning Machine Learning:\n",
    "\n",
    "    <transcript>\n",
    "    {transcript_text}\n",
    "    </transcript>\n",
    "\n",
    "    Please carefully read through the entire transcript above. Then answer the following questions:\n",
    "\n",
    "    1. What are the key points made in this YouTube video? \n",
    "\n",
    "    2. What are some actionable steps that one can take based on the advice in this YouTube video? \n",
    "    \n",
    "\n",
    "    Provide your full response inside <result> tags.\n",
    "    \"\"\"\n",
    "\n",
    "test_system_prompt = \"\"\"You are an expert at summarising YouTube videos on any topic. \n",
    "Your job is to read and effectively summarise and answer questions about YouTube videos based on their transcripts. \n",
    "Do not hallucinate or fabricate any information. If some piece of information requested above is not found in the transcript, \n",
    "simply skip that part. Do not write things like \"not found in transcript\".\"\"\"\n",
    "\n",
    "get_model_response(test_user_prompt, test_system_prompt)"
   ]
  },
  {
   "cell_type": "markdown",
   "id": "778a1eb0-59dd-4a6a-98e9-7cd858f15b3e",
   "metadata": {},
   "source": [
    "#### `summarise_playlist` function\n",
    "\n",
    "This function puts everything together. Given a playlist url, prompts and topic(s) it will gather the transcripts, query the LLM and output the results. "
   ]
  },
  {
   "cell_type": "code",
   "execution_count": null,
   "id": "b8786584-327e-4e8b-be85-84544609154f",
   "metadata": {},
   "outputs": [],
   "source": [
    "def summarise_playlist(playlist_url, user_prompt, system_prompt, topic):\n",
    "    playlist_data = download_playlist_data(playlist_url)\n",
    "    summarized_data = {}\n",
    "\n",
    "    for video_id, info in playlist_data.items():\n",
    "        \n",
    "        # create prompt\n",
    "        compiled_user_prompt = compile_prompt(user_prompt, info['transcript'], topic)\n",
    "        \n",
    "        # get summary from model and time\n",
    "        start_time = time.time()\n",
    "        summary = get_model_response(compiled_user_prompt, system_prompt)\n",
    "        end_time = time.time()\n",
    "        \n",
    "        # add summary to dictionary \n",
    "        summarized_data[video_id] = {\n",
    "            \"summary\": summary,\n",
    "            \"transcript\": info['transcript'],\n",
    "            \"title\": info['title'],\n",
    "            \"author\": info['author'],\n",
    "            \"date_published\": info['date_published'],\n",
    "            \"duration\": info['duration'],\n",
    "            \"transcript_fetch_time\": info['transcript_fetch_time'],\n",
    "            \"model_response_time\": round(end_time-start_time, 2)\n",
    "        }\n",
    "    \n",
    "    return summarized_data"
   ]
  },
  {
   "cell_type": "code",
   "execution_count": null,
   "id": "7c183ae5-f894-4e9c-a1e5-0b167a5863b7",
   "metadata": {},
   "outputs": [],
   "source": [
    "# test case\n",
    "test_summaries = summarise_playlist(\"https://www.youtube.com/playlist?list=PLLcwGvZPfmzcGxeS_5OMR_25VpFRKao2U\", \n",
    "                                    test_user_prompt, test_system_prompt, 'Machine Learning')\n"
   ]
  },
  {
   "cell_type": "code",
   "execution_count": null,
   "id": "f806a12e-93a5-4b3f-8c31-5396dfbcbdc6",
   "metadata": {},
   "outputs": [],
   "source": [
    "test_summaries"
   ]
  },
  {
   "cell_type": "code",
   "execution_count": null,
   "id": "8007c0f9-8f94-412f-8a58-6a4778f8e332",
   "metadata": {},
   "outputs": [],
   "source": [
    "# convert to dataframe\n",
    "df = pd.DataFrame.from_dict(test_summaries, orient='index')\n",
    "df = df.reset_index().rename(columns={'index': 'video_id'})\n",
    "df = df[['video_id', 'title', 'author', 'summary', \n",
    "         'date_published', 'duration', 'transcript_fetch_time', 'model_response_time']]"
   ]
  }
 ],
 "metadata": {
  "kernelspec": {
   "display_name": "summaries",
   "language": "python",
   "name": "summaries"
  },
  "language_info": {
   "codemirror_mode": {
    "name": "ipython",
    "version": 3
   },
   "file_extension": ".py",
   "mimetype": "text/x-python",
   "name": "python",
   "nbconvert_exporter": "python",
   "pygments_lexer": "ipython3",
   "version": "3.8.19"
  }
 },
 "nbformat": 4,
 "nbformat_minor": 5
}
